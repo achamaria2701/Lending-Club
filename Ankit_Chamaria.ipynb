{
 "cells": [
  {
   "cell_type": "markdown",
   "id": "7f785076",
   "metadata": {},
   "source": [
    "# EDA - Loan Dataset"
   ]
  },
  {
   "cell_type": "markdown",
   "id": "0bebd6d2",
   "metadata": {},
   "source": [
    "## Data Understanding, Cleaning and Manipulation"
   ]
  },
  {
   "cell_type": "code",
   "execution_count": 8,
   "id": "1b66695a",
   "metadata": {},
   "outputs": [
    {
     "data": {
      "text/html": [
       "<div>\n",
       "<style scoped>\n",
       "    .dataframe tbody tr th:only-of-type {\n",
       "        vertical-align: middle;\n",
       "    }\n",
       "\n",
       "    .dataframe tbody tr th {\n",
       "        vertical-align: top;\n",
       "    }\n",
       "\n",
       "    .dataframe thead th {\n",
       "        text-align: right;\n",
       "    }\n",
       "</style>\n",
       "<table border=\"1\" class=\"dataframe\">\n",
       "  <thead>\n",
       "    <tr style=\"text-align: right;\">\n",
       "      <th></th>\n",
       "      <th>id</th>\n",
       "      <th>member_id</th>\n",
       "      <th>loan_amnt</th>\n",
       "      <th>funded_amnt</th>\n",
       "      <th>funded_amnt_inv</th>\n",
       "      <th>term</th>\n",
       "      <th>int_rate</th>\n",
       "      <th>installment</th>\n",
       "      <th>grade</th>\n",
       "      <th>sub_grade</th>\n",
       "      <th>...</th>\n",
       "      <th>num_tl_90g_dpd_24m</th>\n",
       "      <th>num_tl_op_past_12m</th>\n",
       "      <th>pct_tl_nvr_dlq</th>\n",
       "      <th>percent_bc_gt_75</th>\n",
       "      <th>pub_rec_bankruptcies</th>\n",
       "      <th>tax_liens</th>\n",
       "      <th>tot_hi_cred_lim</th>\n",
       "      <th>total_bal_ex_mort</th>\n",
       "      <th>total_bc_limit</th>\n",
       "      <th>total_il_high_credit_limit</th>\n",
       "    </tr>\n",
       "  </thead>\n",
       "  <tbody>\n",
       "    <tr>\n",
       "      <th>0</th>\n",
       "      <td>1077501</td>\n",
       "      <td>1296599</td>\n",
       "      <td>5000</td>\n",
       "      <td>5000</td>\n",
       "      <td>4975.0</td>\n",
       "      <td>36 months</td>\n",
       "      <td>10.65%</td>\n",
       "      <td>162.87</td>\n",
       "      <td>B</td>\n",
       "      <td>B2</td>\n",
       "      <td>...</td>\n",
       "      <td>NaN</td>\n",
       "      <td>NaN</td>\n",
       "      <td>NaN</td>\n",
       "      <td>NaN</td>\n",
       "      <td>0.0</td>\n",
       "      <td>0.0</td>\n",
       "      <td>NaN</td>\n",
       "      <td>NaN</td>\n",
       "      <td>NaN</td>\n",
       "      <td>NaN</td>\n",
       "    </tr>\n",
       "    <tr>\n",
       "      <th>1</th>\n",
       "      <td>1077430</td>\n",
       "      <td>1314167</td>\n",
       "      <td>2500</td>\n",
       "      <td>2500</td>\n",
       "      <td>2500.0</td>\n",
       "      <td>60 months</td>\n",
       "      <td>15.27%</td>\n",
       "      <td>59.83</td>\n",
       "      <td>C</td>\n",
       "      <td>C4</td>\n",
       "      <td>...</td>\n",
       "      <td>NaN</td>\n",
       "      <td>NaN</td>\n",
       "      <td>NaN</td>\n",
       "      <td>NaN</td>\n",
       "      <td>0.0</td>\n",
       "      <td>0.0</td>\n",
       "      <td>NaN</td>\n",
       "      <td>NaN</td>\n",
       "      <td>NaN</td>\n",
       "      <td>NaN</td>\n",
       "    </tr>\n",
       "    <tr>\n",
       "      <th>2</th>\n",
       "      <td>1077175</td>\n",
       "      <td>1313524</td>\n",
       "      <td>2400</td>\n",
       "      <td>2400</td>\n",
       "      <td>2400.0</td>\n",
       "      <td>36 months</td>\n",
       "      <td>15.96%</td>\n",
       "      <td>84.33</td>\n",
       "      <td>C</td>\n",
       "      <td>C5</td>\n",
       "      <td>...</td>\n",
       "      <td>NaN</td>\n",
       "      <td>NaN</td>\n",
       "      <td>NaN</td>\n",
       "      <td>NaN</td>\n",
       "      <td>0.0</td>\n",
       "      <td>0.0</td>\n",
       "      <td>NaN</td>\n",
       "      <td>NaN</td>\n",
       "      <td>NaN</td>\n",
       "      <td>NaN</td>\n",
       "    </tr>\n",
       "    <tr>\n",
       "      <th>3</th>\n",
       "      <td>1076863</td>\n",
       "      <td>1277178</td>\n",
       "      <td>10000</td>\n",
       "      <td>10000</td>\n",
       "      <td>10000.0</td>\n",
       "      <td>36 months</td>\n",
       "      <td>13.49%</td>\n",
       "      <td>339.31</td>\n",
       "      <td>C</td>\n",
       "      <td>C1</td>\n",
       "      <td>...</td>\n",
       "      <td>NaN</td>\n",
       "      <td>NaN</td>\n",
       "      <td>NaN</td>\n",
       "      <td>NaN</td>\n",
       "      <td>0.0</td>\n",
       "      <td>0.0</td>\n",
       "      <td>NaN</td>\n",
       "      <td>NaN</td>\n",
       "      <td>NaN</td>\n",
       "      <td>NaN</td>\n",
       "    </tr>\n",
       "    <tr>\n",
       "      <th>4</th>\n",
       "      <td>1075358</td>\n",
       "      <td>1311748</td>\n",
       "      <td>3000</td>\n",
       "      <td>3000</td>\n",
       "      <td>3000.0</td>\n",
       "      <td>60 months</td>\n",
       "      <td>12.69%</td>\n",
       "      <td>67.79</td>\n",
       "      <td>B</td>\n",
       "      <td>B5</td>\n",
       "      <td>...</td>\n",
       "      <td>NaN</td>\n",
       "      <td>NaN</td>\n",
       "      <td>NaN</td>\n",
       "      <td>NaN</td>\n",
       "      <td>0.0</td>\n",
       "      <td>0.0</td>\n",
       "      <td>NaN</td>\n",
       "      <td>NaN</td>\n",
       "      <td>NaN</td>\n",
       "      <td>NaN</td>\n",
       "    </tr>\n",
       "  </tbody>\n",
       "</table>\n",
       "<p>5 rows × 111 columns</p>\n",
       "</div>"
      ],
      "text/plain": [
       "        id  member_id  loan_amnt  funded_amnt  funded_amnt_inv        term  \\\n",
       "0  1077501    1296599       5000         5000           4975.0   36 months   \n",
       "1  1077430    1314167       2500         2500           2500.0   60 months   \n",
       "2  1077175    1313524       2400         2400           2400.0   36 months   \n",
       "3  1076863    1277178      10000        10000          10000.0   36 months   \n",
       "4  1075358    1311748       3000         3000           3000.0   60 months   \n",
       "\n",
       "  int_rate  installment grade sub_grade  ... num_tl_90g_dpd_24m  \\\n",
       "0   10.65%       162.87     B        B2  ...                NaN   \n",
       "1   15.27%        59.83     C        C4  ...                NaN   \n",
       "2   15.96%        84.33     C        C5  ...                NaN   \n",
       "3   13.49%       339.31     C        C1  ...                NaN   \n",
       "4   12.69%        67.79     B        B5  ...                NaN   \n",
       "\n",
       "  num_tl_op_past_12m pct_tl_nvr_dlq  percent_bc_gt_75 pub_rec_bankruptcies  \\\n",
       "0                NaN            NaN               NaN                  0.0   \n",
       "1                NaN            NaN               NaN                  0.0   \n",
       "2                NaN            NaN               NaN                  0.0   \n",
       "3                NaN            NaN               NaN                  0.0   \n",
       "4                NaN            NaN               NaN                  0.0   \n",
       "\n",
       "  tax_liens tot_hi_cred_lim total_bal_ex_mort total_bc_limit  \\\n",
       "0       0.0             NaN               NaN            NaN   \n",
       "1       0.0             NaN               NaN            NaN   \n",
       "2       0.0             NaN               NaN            NaN   \n",
       "3       0.0             NaN               NaN            NaN   \n",
       "4       0.0             NaN               NaN            NaN   \n",
       "\n",
       "  total_il_high_credit_limit  \n",
       "0                        NaN  \n",
       "1                        NaN  \n",
       "2                        NaN  \n",
       "3                        NaN  \n",
       "4                        NaN  \n",
       "\n",
       "[5 rows x 111 columns]"
      ]
     },
     "execution_count": 8,
     "metadata": {},
     "output_type": "execute_result"
    }
   ],
   "source": [
    "import pandas as pd\n",
    "\n",
    "# Load the loan dataset\n",
    "loan = pd.read_csv(r\"C:\\Users\\ankit\\Desktop\\upGrad\\Course 2\\Case - Lending Club\\loan.csv\", low_memory=False)\n",
    "\n",
    "#Displaying few rows of the dataset\n",
    "loan.head()"
   ]
  },
  {
   "cell_type": "code",
   "execution_count": 9,
   "id": "94e34d89",
   "metadata": {},
   "outputs": [
    {
     "data": {
      "text/plain": [
       "id                                0\n",
       "member_id                         0\n",
       "loan_amnt                         0\n",
       "funded_amnt                       0\n",
       "funded_amnt_inv                   0\n",
       "                              ...  \n",
       "tax_liens                        39\n",
       "tot_hi_cred_lim               39717\n",
       "total_bal_ex_mort             39717\n",
       "total_bc_limit                39717\n",
       "total_il_high_credit_limit    39717\n",
       "Length: 111, dtype: int64"
      ]
     },
     "execution_count": 9,
     "metadata": {},
     "output_type": "execute_result"
    }
   ],
   "source": [
    "#Check for missing data in each columns\n",
    "loan.isna().sum()"
   ]
  },
  {
   "cell_type": "code",
   "execution_count": 11,
   "id": "d06073a4",
   "metadata": {},
   "outputs": [
    {
     "data": {
      "text/html": [
       "<div>\n",
       "<style scoped>\n",
       "    .dataframe tbody tr th:only-of-type {\n",
       "        vertical-align: middle;\n",
       "    }\n",
       "\n",
       "    .dataframe tbody tr th {\n",
       "        vertical-align: top;\n",
       "    }\n",
       "\n",
       "    .dataframe thead th {\n",
       "        text-align: right;\n",
       "    }\n",
       "</style>\n",
       "<table border=\"1\" class=\"dataframe\">\n",
       "  <thead>\n",
       "    <tr style=\"text-align: right;\">\n",
       "      <th></th>\n",
       "      <th>id</th>\n",
       "      <th>member_id</th>\n",
       "      <th>loan_amnt</th>\n",
       "      <th>funded_amnt</th>\n",
       "      <th>funded_amnt_inv</th>\n",
       "      <th>term</th>\n",
       "      <th>int_rate</th>\n",
       "      <th>installment</th>\n",
       "      <th>grade</th>\n",
       "      <th>sub_grade</th>\n",
       "      <th>...</th>\n",
       "      <th>next_pymnt_d</th>\n",
       "      <th>last_credit_pull_d</th>\n",
       "      <th>collections_12_mths_ex_med</th>\n",
       "      <th>policy_code</th>\n",
       "      <th>application_type</th>\n",
       "      <th>acc_now_delinq</th>\n",
       "      <th>chargeoff_within_12_mths</th>\n",
       "      <th>delinq_amnt</th>\n",
       "      <th>pub_rec_bankruptcies</th>\n",
       "      <th>tax_liens</th>\n",
       "    </tr>\n",
       "  </thead>\n",
       "  <tbody>\n",
       "    <tr>\n",
       "      <th>0</th>\n",
       "      <td>1077501</td>\n",
       "      <td>1296599</td>\n",
       "      <td>5000</td>\n",
       "      <td>5000</td>\n",
       "      <td>4975.0</td>\n",
       "      <td>36 months</td>\n",
       "      <td>10.65%</td>\n",
       "      <td>162.87</td>\n",
       "      <td>B</td>\n",
       "      <td>B2</td>\n",
       "      <td>...</td>\n",
       "      <td>NaN</td>\n",
       "      <td>May-16</td>\n",
       "      <td>0.0</td>\n",
       "      <td>1</td>\n",
       "      <td>INDIVIDUAL</td>\n",
       "      <td>0</td>\n",
       "      <td>0.0</td>\n",
       "      <td>0</td>\n",
       "      <td>0.0</td>\n",
       "      <td>0.0</td>\n",
       "    </tr>\n",
       "    <tr>\n",
       "      <th>1</th>\n",
       "      <td>1077430</td>\n",
       "      <td>1314167</td>\n",
       "      <td>2500</td>\n",
       "      <td>2500</td>\n",
       "      <td>2500.0</td>\n",
       "      <td>60 months</td>\n",
       "      <td>15.27%</td>\n",
       "      <td>59.83</td>\n",
       "      <td>C</td>\n",
       "      <td>C4</td>\n",
       "      <td>...</td>\n",
       "      <td>NaN</td>\n",
       "      <td>Sep-13</td>\n",
       "      <td>0.0</td>\n",
       "      <td>1</td>\n",
       "      <td>INDIVIDUAL</td>\n",
       "      <td>0</td>\n",
       "      <td>0.0</td>\n",
       "      <td>0</td>\n",
       "      <td>0.0</td>\n",
       "      <td>0.0</td>\n",
       "    </tr>\n",
       "    <tr>\n",
       "      <th>2</th>\n",
       "      <td>1077175</td>\n",
       "      <td>1313524</td>\n",
       "      <td>2400</td>\n",
       "      <td>2400</td>\n",
       "      <td>2400.0</td>\n",
       "      <td>36 months</td>\n",
       "      <td>15.96%</td>\n",
       "      <td>84.33</td>\n",
       "      <td>C</td>\n",
       "      <td>C5</td>\n",
       "      <td>...</td>\n",
       "      <td>NaN</td>\n",
       "      <td>May-16</td>\n",
       "      <td>0.0</td>\n",
       "      <td>1</td>\n",
       "      <td>INDIVIDUAL</td>\n",
       "      <td>0</td>\n",
       "      <td>0.0</td>\n",
       "      <td>0</td>\n",
       "      <td>0.0</td>\n",
       "      <td>0.0</td>\n",
       "    </tr>\n",
       "    <tr>\n",
       "      <th>3</th>\n",
       "      <td>1076863</td>\n",
       "      <td>1277178</td>\n",
       "      <td>10000</td>\n",
       "      <td>10000</td>\n",
       "      <td>10000.0</td>\n",
       "      <td>36 months</td>\n",
       "      <td>13.49%</td>\n",
       "      <td>339.31</td>\n",
       "      <td>C</td>\n",
       "      <td>C1</td>\n",
       "      <td>...</td>\n",
       "      <td>NaN</td>\n",
       "      <td>Apr-16</td>\n",
       "      <td>0.0</td>\n",
       "      <td>1</td>\n",
       "      <td>INDIVIDUAL</td>\n",
       "      <td>0</td>\n",
       "      <td>0.0</td>\n",
       "      <td>0</td>\n",
       "      <td>0.0</td>\n",
       "      <td>0.0</td>\n",
       "    </tr>\n",
       "    <tr>\n",
       "      <th>4</th>\n",
       "      <td>1075358</td>\n",
       "      <td>1311748</td>\n",
       "      <td>3000</td>\n",
       "      <td>3000</td>\n",
       "      <td>3000.0</td>\n",
       "      <td>60 months</td>\n",
       "      <td>12.69%</td>\n",
       "      <td>67.79</td>\n",
       "      <td>B</td>\n",
       "      <td>B5</td>\n",
       "      <td>...</td>\n",
       "      <td>Jun-16</td>\n",
       "      <td>May-16</td>\n",
       "      <td>0.0</td>\n",
       "      <td>1</td>\n",
       "      <td>INDIVIDUAL</td>\n",
       "      <td>0</td>\n",
       "      <td>0.0</td>\n",
       "      <td>0</td>\n",
       "      <td>0.0</td>\n",
       "      <td>0.0</td>\n",
       "    </tr>\n",
       "  </tbody>\n",
       "</table>\n",
       "<p>5 rows × 57 columns</p>\n",
       "</div>"
      ],
      "text/plain": [
       "        id  member_id  loan_amnt  funded_amnt  funded_amnt_inv        term  \\\n",
       "0  1077501    1296599       5000         5000           4975.0   36 months   \n",
       "1  1077430    1314167       2500         2500           2500.0   60 months   \n",
       "2  1077175    1313524       2400         2400           2400.0   36 months   \n",
       "3  1076863    1277178      10000        10000          10000.0   36 months   \n",
       "4  1075358    1311748       3000         3000           3000.0   60 months   \n",
       "\n",
       "  int_rate  installment grade sub_grade  ... next_pymnt_d last_credit_pull_d  \\\n",
       "0   10.65%       162.87     B        B2  ...          NaN             May-16   \n",
       "1   15.27%        59.83     C        C4  ...          NaN             Sep-13   \n",
       "2   15.96%        84.33     C        C5  ...          NaN             May-16   \n",
       "3   13.49%       339.31     C        C1  ...          NaN             Apr-16   \n",
       "4   12.69%        67.79     B        B5  ...       Jun-16             May-16   \n",
       "\n",
       "  collections_12_mths_ex_med  policy_code application_type acc_now_delinq  \\\n",
       "0                        0.0            1       INDIVIDUAL              0   \n",
       "1                        0.0            1       INDIVIDUAL              0   \n",
       "2                        0.0            1       INDIVIDUAL              0   \n",
       "3                        0.0            1       INDIVIDUAL              0   \n",
       "4                        0.0            1       INDIVIDUAL              0   \n",
       "\n",
       "  chargeoff_within_12_mths delinq_amnt pub_rec_bankruptcies tax_liens  \n",
       "0                      0.0           0                  0.0       0.0  \n",
       "1                      0.0           0                  0.0       0.0  \n",
       "2                      0.0           0                  0.0       0.0  \n",
       "3                      0.0           0                  0.0       0.0  \n",
       "4                      0.0           0                  0.0       0.0  \n",
       "\n",
       "[5 rows x 57 columns]"
      ]
     },
     "execution_count": 11,
     "metadata": {},
     "output_type": "execute_result"
    }
   ],
   "source": [
    "#Dropping columns having all NaN values\n",
    "loan.dropna(axis='columns', how='all', inplace=True)\n",
    "\n",
    "#Displaying few rows of the reduced dataset\n",
    "loan.head()"
   ]
  },
  {
   "cell_type": "code",
   "execution_count": 14,
   "id": "1fbe4004",
   "metadata": {},
   "outputs": [
    {
     "data": {
      "text/plain": [
       "next_pymnt_d                  38577\n",
       "mths_since_last_record        36931\n",
       "mths_since_last_delinq        25682\n",
       "desc                          12940\n",
       "emp_title                      2459\n",
       "emp_length                     1075\n",
       "pub_rec_bankruptcies            697\n",
       "last_pymnt_d                     71\n",
       "chargeoff_within_12_mths         56\n",
       "collections_12_mths_ex_med       56\n",
       "dtype: int64"
      ]
     },
     "execution_count": 14,
     "metadata": {},
     "output_type": "execute_result"
    }
   ],
   "source": [
    "#Check for missing data in remaining columns\n",
    "loan.isna().sum().sort_values(ascending=False).head(10)"
   ]
  },
  {
   "cell_type": "markdown",
   "id": "f7eda985",
   "metadata": {},
   "source": [
    "###Analysing the top 4 columns with highest number of NaN values to find relevance or eliminate the column"
   ]
  },
  {
   "cell_type": "markdown",
   "id": "18feb696",
   "metadata": {},
   "source": [
    "1. next_pymnt_d: It is the next sceduled date of payment"
   ]
  },
  {
   "cell_type": "code",
   "execution_count": 16,
   "id": "f2f64ce8",
   "metadata": {},
   "outputs": [
    {
     "name": "stderr",
     "output_type": "stream",
     "text": [
      "C:\\Users\\ankit\\AppData\\Local\\Temp\\ipykernel_58748\\23376089.py:5: SettingWithCopyWarning: \n",
      "A value is trying to be set on a copy of a slice from a DataFrame.\n",
      "Try using .loc[row_indexer,col_indexer] = value instead\n",
      "\n",
      "See the caveats in the documentation: https://pandas.pydata.org/pandas-docs/stable/user_guide/indexing.html#returning-a-view-versus-a-copy\n",
      "  loan_nextpayment['data_available'] = loan_nextpayment.next_pymnt_d.apply(lambda x: 0 if pd.isnull(x)==True else 1)\n"
     ]
    },
    {
     "data": {
      "text/html": [
       "<div>\n",
       "<style scoped>\n",
       "    .dataframe tbody tr th:only-of-type {\n",
       "        vertical-align: middle;\n",
       "    }\n",
       "\n",
       "    .dataframe tbody tr th {\n",
       "        vertical-align: top;\n",
       "    }\n",
       "\n",
       "    .dataframe thead th {\n",
       "        text-align: right;\n",
       "    }\n",
       "</style>\n",
       "<table border=\"1\" class=\"dataframe\">\n",
       "  <thead>\n",
       "    <tr style=\"text-align: right;\">\n",
       "      <th>loan_status</th>\n",
       "      <th>Charged Off</th>\n",
       "      <th>Current</th>\n",
       "      <th>Fully Paid</th>\n",
       "    </tr>\n",
       "    <tr>\n",
       "      <th>data_available</th>\n",
       "      <th></th>\n",
       "      <th></th>\n",
       "      <th></th>\n",
       "    </tr>\n",
       "  </thead>\n",
       "  <tbody>\n",
       "    <tr>\n",
       "      <th>0</th>\n",
       "      <td>5627</td>\n",
       "      <td>0</td>\n",
       "      <td>32950</td>\n",
       "    </tr>\n",
       "    <tr>\n",
       "      <th>1</th>\n",
       "      <td>0</td>\n",
       "      <td>1140</td>\n",
       "      <td>0</td>\n",
       "    </tr>\n",
       "  </tbody>\n",
       "</table>\n",
       "</div>"
      ],
      "text/plain": [
       "loan_status     Charged Off  Current  Fully Paid\n",
       "data_available                                  \n",
       "0                      5627        0       32950\n",
       "1                         0     1140           0"
      ]
     },
     "execution_count": 16,
     "metadata": {},
     "output_type": "execute_result"
    }
   ],
   "source": [
    "# Creating a dataset with loan_status and next_pymnt_d columns to check its relevance\n",
    "loan_nextpayment = loan[['loan_status','next_pymnt_d']]\n",
    "\n",
    "#Creatinbg a new column which tells us if next payment date is available or not for each record\n",
    "loan_nextpayment['data_available'] = loan_nextpayment.next_pymnt_d.apply(lambda x: 0 if pd.isnull(x)==True else 1)\n",
    "\n",
    "#Creating a crosstable\n",
    "nextpayment_cross_tab = pd.crosstab(loan_nextpayment.data_available, loan_nextpayment.loan_status)\n",
    "nextpayment_cross_tab"
   ]
  },
  {
   "cell_type": "markdown",
   "id": "a5b0cab8",
   "metadata": {},
   "source": [
    "Conclusion: Irrelevant column since next payment date is only available for current running loan account"
   ]
  },
  {
   "cell_type": "code",
   "execution_count": 19,
   "id": "7f93118f",
   "metadata": {},
   "outputs": [],
   "source": [
    "#dropping the irrelevant column\n",
    "loan.drop('next_pymnt_d', axis='columns', inplace=True)"
   ]
  },
  {
   "cell_type": "markdown",
   "id": "fbf57866",
   "metadata": {},
   "source": [
    "2. mths_since_last_record: It is the number of months since the last public record"
   ]
  },
  {
   "cell_type": "code",
   "execution_count": 20,
   "id": "da773577",
   "metadata": {},
   "outputs": [
    {
     "name": "stderr",
     "output_type": "stream",
     "text": [
      "C:\\Users\\ankit\\AppData\\Local\\Temp\\ipykernel_58748\\631391158.py:5: SettingWithCopyWarning: \n",
      "A value is trying to be set on a copy of a slice from a DataFrame.\n",
      "Try using .loc[row_indexer,col_indexer] = value instead\n",
      "\n",
      "See the caveats in the documentation: https://pandas.pydata.org/pandas-docs/stable/user_guide/indexing.html#returning-a-view-versus-a-copy\n",
      "  loan_lastrecord['data_available'] = loan_lastrecord.mths_since_last_record.apply(lambda x: 0 if pd.isnull(x)==True else 1)\n"
     ]
    },
    {
     "data": {
      "text/html": [
       "<div>\n",
       "<style scoped>\n",
       "    .dataframe tbody tr th:only-of-type {\n",
       "        vertical-align: middle;\n",
       "    }\n",
       "\n",
       "    .dataframe tbody tr th {\n",
       "        vertical-align: top;\n",
       "    }\n",
       "\n",
       "    .dataframe thead th {\n",
       "        text-align: right;\n",
       "    }\n",
       "</style>\n",
       "<table border=\"1\" class=\"dataframe\">\n",
       "  <thead>\n",
       "    <tr style=\"text-align: right;\">\n",
       "      <th>loan_status</th>\n",
       "      <th>Charged Off</th>\n",
       "      <th>Current</th>\n",
       "      <th>Fully Paid</th>\n",
       "    </tr>\n",
       "    <tr>\n",
       "      <th>data_available</th>\n",
       "      <th></th>\n",
       "      <th></th>\n",
       "      <th></th>\n",
       "    </tr>\n",
       "  </thead>\n",
       "  <tbody>\n",
       "    <tr>\n",
       "      <th>0</th>\n",
       "      <td>5049</td>\n",
       "      <td>1094</td>\n",
       "      <td>30788</td>\n",
       "    </tr>\n",
       "    <tr>\n",
       "      <th>1</th>\n",
       "      <td>578</td>\n",
       "      <td>46</td>\n",
       "      <td>2162</td>\n",
       "    </tr>\n",
       "  </tbody>\n",
       "</table>\n",
       "</div>"
      ],
      "text/plain": [
       "loan_status     Charged Off  Current  Fully Paid\n",
       "data_available                                  \n",
       "0                      5049     1094       30788\n",
       "1                       578       46        2162"
      ]
     },
     "execution_count": 20,
     "metadata": {},
     "output_type": "execute_result"
    }
   ],
   "source": [
    "# Creating a dataset with mths_since_last_record and next_pymnt_d columns to check its relevance\n",
    "loan_lastrecord = loan[['loan_status','mths_since_last_record']]\n",
    "\n",
    "#Creatinbg a new column which tells us if month since last record data is available or not for each record\n",
    "loan_lastrecord['data_available'] = loan_lastrecord.mths_since_last_record.apply(lambda x: 0 if pd.isnull(x)==True else 1)\n",
    "\n",
    "#Creating a crosstable\n",
    "lastrecord_cross_tab = pd.crosstab(loan_lastrecord.data_available, loan_lastrecord.loan_status)\n",
    "lastrecord_cross_tab"
   ]
  },
  {
   "cell_type": "markdown",
   "id": "f99d4f03",
   "metadata": {},
   "source": [
    "Conclusion: month since last record is not available for current running loan account as well which makes this column unreliable"
   ]
  },
  {
   "cell_type": "code",
   "execution_count": 21,
   "id": "3e8d0a15",
   "metadata": {},
   "outputs": [],
   "source": [
    "#dropping the irrelevant column\n",
    "loan.drop('mths_since_last_record', axis='columns', inplace=True)"
   ]
  },
  {
   "cell_type": "markdown",
   "id": "43e60ec7",
   "metadata": {},
   "source": [
    "3. mths_since_last_delinq: The number of months since the borrower's last delinquency"
   ]
  },
  {
   "cell_type": "code",
   "execution_count": 22,
   "id": "ac443ccd",
   "metadata": {},
   "outputs": [
    {
     "name": "stderr",
     "output_type": "stream",
     "text": [
      "C:\\Users\\ankit\\AppData\\Local\\Temp\\ipykernel_58748\\3169754249.py:5: SettingWithCopyWarning: \n",
      "A value is trying to be set on a copy of a slice from a DataFrame.\n",
      "Try using .loc[row_indexer,col_indexer] = value instead\n",
      "\n",
      "See the caveats in the documentation: https://pandas.pydata.org/pandas-docs/stable/user_guide/indexing.html#returning-a-view-versus-a-copy\n",
      "  loan_lastdelinq['data_available'] = loan_lastdelinq.mths_since_last_delinq.apply(lambda x: 0 if pd.isnull(x)==True else 1)\n"
     ]
    },
    {
     "data": {
      "text/html": [
       "<div>\n",
       "<style scoped>\n",
       "    .dataframe tbody tr th:only-of-type {\n",
       "        vertical-align: middle;\n",
       "    }\n",
       "\n",
       "    .dataframe tbody tr th {\n",
       "        vertical-align: top;\n",
       "    }\n",
       "\n",
       "    .dataframe thead th {\n",
       "        text-align: right;\n",
       "    }\n",
       "</style>\n",
       "<table border=\"1\" class=\"dataframe\">\n",
       "  <thead>\n",
       "    <tr style=\"text-align: right;\">\n",
       "      <th>loan_status</th>\n",
       "      <th>Charged Off</th>\n",
       "      <th>Current</th>\n",
       "      <th>Fully Paid</th>\n",
       "    </tr>\n",
       "    <tr>\n",
       "      <th>data_available</th>\n",
       "      <th></th>\n",
       "      <th></th>\n",
       "      <th></th>\n",
       "    </tr>\n",
       "  </thead>\n",
       "  <tbody>\n",
       "    <tr>\n",
       "      <th>0</th>\n",
       "      <td>3485</td>\n",
       "      <td>777</td>\n",
       "      <td>21420</td>\n",
       "    </tr>\n",
       "    <tr>\n",
       "      <th>1</th>\n",
       "      <td>2142</td>\n",
       "      <td>363</td>\n",
       "      <td>11530</td>\n",
       "    </tr>\n",
       "  </tbody>\n",
       "</table>\n",
       "</div>"
      ],
      "text/plain": [
       "loan_status     Charged Off  Current  Fully Paid\n",
       "data_available                                  \n",
       "0                      3485      777       21420\n",
       "1                      2142      363       11530"
      ]
     },
     "execution_count": 22,
     "metadata": {},
     "output_type": "execute_result"
    }
   ],
   "source": [
    "# Creating a dataset with mths_since_last_delinq and next_pymnt_d columns to check its relevance\n",
    "loan_lastdelinq = loan[['loan_status','mths_since_last_delinq']]\n",
    "\n",
    "#Creatinbg a new column which tells us if month since last record data is available or not for each record\n",
    "loan_lastdelinq['data_available'] = loan_lastdelinq.mths_since_last_delinq.apply(lambda x: 0 if pd.isnull(x)==True else 1)\n",
    "\n",
    "#Creating a crosstable\n",
    "lastdelinq_cross_tab = pd.crosstab(loan_lastdelinq.data_available, loan_lastdelinq.loan_status)\n",
    "lastdelinq_cross_tab"
   ]
  },
  {
   "cell_type": "markdown",
   "id": "f36ede4a",
   "metadata": {},
   "source": [
    "Conclusion: month since last delinq is not available for current running loan account as well which makes this column unreliable"
   ]
  },
  {
   "cell_type": "code",
   "execution_count": 23,
   "id": "bd609ce5",
   "metadata": {},
   "outputs": [],
   "source": [
    "#dropping the irrelevant column\n",
    "loan.drop('mths_since_last_delinq', axis='columns', inplace=True)"
   ]
  },
  {
   "cell_type": "markdown",
   "id": "4d10d8a7",
   "metadata": {},
   "source": [
    "4. desc: Loan description provided by the borrower"
   ]
  },
  {
   "cell_type": "code",
   "execution_count": 25,
   "id": "1b35e9cd",
   "metadata": {},
   "outputs": [
    {
     "name": "stderr",
     "output_type": "stream",
     "text": [
      "C:\\Users\\ankit\\AppData\\Local\\Temp\\ipykernel_58748\\3653842766.py:5: SettingWithCopyWarning: \n",
      "A value is trying to be set on a copy of a slice from a DataFrame.\n",
      "Try using .loc[row_indexer,col_indexer] = value instead\n",
      "\n",
      "See the caveats in the documentation: https://pandas.pydata.org/pandas-docs/stable/user_guide/indexing.html#returning-a-view-versus-a-copy\n",
      "  loan_desc['data_available'] = loan_desc.desc.apply(lambda x: 0 if pd.isnull(x)==True else 1)\n"
     ]
    },
    {
     "data": {
      "text/html": [
       "<div>\n",
       "<style scoped>\n",
       "    .dataframe tbody tr th:only-of-type {\n",
       "        vertical-align: middle;\n",
       "    }\n",
       "\n",
       "    .dataframe tbody tr th {\n",
       "        vertical-align: top;\n",
       "    }\n",
       "\n",
       "    .dataframe thead th {\n",
       "        text-align: right;\n",
       "    }\n",
       "</style>\n",
       "<table border=\"1\" class=\"dataframe\">\n",
       "  <thead>\n",
       "    <tr style=\"text-align: right;\">\n",
       "      <th>loan_status</th>\n",
       "      <th>Charged Off</th>\n",
       "      <th>Current</th>\n",
       "      <th>Fully Paid</th>\n",
       "    </tr>\n",
       "    <tr>\n",
       "      <th>data_available</th>\n",
       "      <th></th>\n",
       "      <th></th>\n",
       "      <th></th>\n",
       "    </tr>\n",
       "  </thead>\n",
       "  <tbody>\n",
       "    <tr>\n",
       "      <th>0</th>\n",
       "      <td>1802</td>\n",
       "      <td>413</td>\n",
       "      <td>10725</td>\n",
       "    </tr>\n",
       "    <tr>\n",
       "      <th>1</th>\n",
       "      <td>3825</td>\n",
       "      <td>727</td>\n",
       "      <td>22225</td>\n",
       "    </tr>\n",
       "  </tbody>\n",
       "</table>\n",
       "</div>"
      ],
      "text/plain": [
       "loan_status     Charged Off  Current  Fully Paid\n",
       "data_available                                  \n",
       "0                      1802      413       10725\n",
       "1                      3825      727       22225"
      ]
     },
     "execution_count": 25,
     "metadata": {},
     "output_type": "execute_result"
    }
   ],
   "source": [
    "# Creating a dataset with desc and next_pymnt_d columns to check its relevance\n",
    "loan_desc = loan[['loan_status','desc']]\n",
    "\n",
    "#Creatinbg a new column which tells us if the descriptiona is available or not for each record\n",
    "loan_desc['data_available'] = loan_desc.desc.apply(lambda x: 0 if pd.isnull(x)==True else 1)\n",
    "\n",
    "#Creating a crosstable\n",
    "desc_cross_tab = pd.crosstab(loan_desc.data_available, loan_desc.loan_status)\n",
    "desc_cross_tab"
   ]
  },
  {
   "cell_type": "code",
   "execution_count": 27,
   "id": "8538f387",
   "metadata": {},
   "outputs": [
    {
     "data": {
      "text/html": [
       "<div>\n",
       "<style scoped>\n",
       "    .dataframe tbody tr th:only-of-type {\n",
       "        vertical-align: middle;\n",
       "    }\n",
       "\n",
       "    .dataframe tbody tr th {\n",
       "        vertical-align: top;\n",
       "    }\n",
       "\n",
       "    .dataframe thead th {\n",
       "        text-align: right;\n",
       "    }\n",
       "</style>\n",
       "<table border=\"1\" class=\"dataframe\">\n",
       "  <thead>\n",
       "    <tr style=\"text-align: right;\">\n",
       "      <th>loan_status</th>\n",
       "      <th>Charged Off</th>\n",
       "      <th>Current</th>\n",
       "      <th>Fully Paid</th>\n",
       "      <th>% charged off</th>\n",
       "    </tr>\n",
       "    <tr>\n",
       "      <th>data_available</th>\n",
       "      <th></th>\n",
       "      <th></th>\n",
       "      <th></th>\n",
       "      <th></th>\n",
       "    </tr>\n",
       "  </thead>\n",
       "  <tbody>\n",
       "    <tr>\n",
       "      <th>0</th>\n",
       "      <td>1802</td>\n",
       "      <td>413</td>\n",
       "      <td>10725</td>\n",
       "      <td>0.14</td>\n",
       "    </tr>\n",
       "    <tr>\n",
       "      <th>1</th>\n",
       "      <td>3825</td>\n",
       "      <td>727</td>\n",
       "      <td>22225</td>\n",
       "      <td>0.14</td>\n",
       "    </tr>\n",
       "  </tbody>\n",
       "</table>\n",
       "</div>"
      ],
      "text/plain": [
       "loan_status     Charged Off  Current  Fully Paid  % charged off\n",
       "data_available                                                 \n",
       "0                      1802      413       10725           0.14\n",
       "1                      3825      727       22225           0.14"
      ]
     },
     "execution_count": 27,
     "metadata": {},
     "output_type": "execute_result"
    }
   ],
   "source": [
    "# Column to check wether % customer charged off changes if description is available\n",
    "desc_cross_tab['% charged off'] = desc_cross_tab.apply(lambda x: round(x[0]/(x[0]+x[1]+x[2]),2), axis=1)\n",
    "desc_cross_tab"
   ]
  },
  {
   "cell_type": "markdown",
   "id": "929c5b6d",
   "metadata": {},
   "source": [
    "Conclusion: availability of description doesnot have any effect on % of people charged off, which makes 'desc' irrelevant"
   ]
  },
  {
   "cell_type": "code",
   "execution_count": 28,
   "id": "23acbd59",
   "metadata": {},
   "outputs": [],
   "source": [
    "#dropping the irrelevant column\n",
    "loan.drop('desc', axis='columns', inplace=True)"
   ]
  },
  {
   "cell_type": "code",
   "execution_count": 33,
   "id": "6d10affd",
   "metadata": {},
   "outputs": [],
   "source": [
    "# Replacing emp_title column with categorical column\n",
    "loan['emp_title_available'] = loan.emp_title.apply(lambda x: 0 if pd.isnull(x)==True else 1)\n",
    "\n",
    "#Dropping emp_title column\n",
    "loan.drop('emp_title', axis='columns', inplace=True)"
   ]
  },
  {
   "cell_type": "code",
   "execution_count": 35,
   "id": "e9e8f3cb",
   "metadata": {},
   "outputs": [],
   "source": [
    "# Replacing NaN values in emp_length column with \"Not Available\" string\n",
    "loan['emp_length'] = loan.emp_length.apply(lambda x: \"Not Available\" if pd.isnull(x)==True else x)"
   ]
  },
  {
   "cell_type": "code",
   "execution_count": 38,
   "id": "7ef4cf94",
   "metadata": {},
   "outputs": [],
   "source": [
    "# Replacing NaN values in pub_rec_bankruptcies column with \"Not Available\" string\n",
    "loan['pub_rec_bankruptcies'] = loan.pub_rec_bankruptcies.apply(lambda x: \"Not Available\" if pd.isnull(x)==True else x)"
   ]
  },
  {
   "cell_type": "code",
   "execution_count": 39,
   "id": "af99dfa4",
   "metadata": {},
   "outputs": [
    {
     "data": {
      "text/plain": [
       "last_pymnt_d                  71\n",
       "chargeoff_within_12_mths      56\n",
       "collections_12_mths_ex_med    56\n",
       "revol_util                    50\n",
       "tax_liens                     39\n",
       "title                         11\n",
       "last_credit_pull_d             2\n",
       "id                             0\n",
       "total_rec_int                  0\n",
       "total_acc                      0\n",
       "dtype: int64"
      ]
     },
     "execution_count": 39,
     "metadata": {},
     "output_type": "execute_result"
    }
   ],
   "source": [
    "#Check for missing data in remaining columns\n",
    "loan.isna().sum().sort_values(ascending=False).head(10)"
   ]
  },
  {
   "cell_type": "code",
   "execution_count": 40,
   "id": "f2332473",
   "metadata": {},
   "outputs": [],
   "source": [
    "#Dropping the remaining rows with NaN values\n",
    "loan.dropna(inplace=True)"
   ]
  },
  {
   "cell_type": "code",
   "execution_count": 43,
   "id": "70146f89",
   "metadata": {},
   "outputs": [],
   "source": [
    "#Checking only for unique values in id and member_id columns\n",
    "loan.drop_duplicates(subset=['id','member_id'], inplace=True)\n",
    "\n",
    "#Dropping id and member_id columns as they are irrelevant\n",
    "loan.drop(['id','member_id'], axis='columns', inplace=True)"
   ]
  },
  {
   "cell_type": "code",
   "execution_count": 44,
   "id": "f125d667",
   "metadata": {
    "scrolled": true
   },
   "outputs": [
    {
     "data": {
      "text/plain": [
       "loan_amnt                  0\n",
       "collection_recovery_fee    0\n",
       "total_acc                  0\n",
       "initial_list_status        0\n",
       "out_prncp                  0\n",
       "dtype: int64"
      ]
     },
     "execution_count": 44,
     "metadata": {},
     "output_type": "execute_result"
    }
   ],
   "source": [
    "#Final check for NaN values\n",
    "loan.isna().sum().sort_values(ascending=False).head()"
   ]
  },
  {
   "cell_type": "code",
   "execution_count": 45,
   "id": "0f94bd43",
   "metadata": {},
   "outputs": [],
   "source": [
    "import matplotlib.pyplot as plt\n",
    "import numpy as np\n",
    "import seaborn as sns"
   ]
  },
  {
   "cell_type": "markdown",
   "id": "b5f4fd16",
   "metadata": {},
   "source": [
    "## Data Analysis - Univariate & Bivariate Analysis"
   ]
  },
  {
   "cell_type": "markdown",
   "id": "b2495a28",
   "metadata": {},
   "source": [
    "1. funded_amnt: The total amount committed to that loan at that point in time"
   ]
  },
  {
   "cell_type": "code",
   "execution_count": 46,
   "id": "889c720b",
   "metadata": {},
   "outputs": [
    {
     "data": {
      "text/plain": [
       "<Axes: xlabel='funded_amnt', ylabel='loan_status'>"
      ]
     },
     "execution_count": 46,
     "metadata": {},
     "output_type": "execute_result"
    },
    {
     "data": {
      "image/png": "[encoded data removed]",
      "text/plain": [
       "<Figure size 640x480 with 1 Axes>"
      ]
     },
     "metadata": {},
     "output_type": "display_data"
    }
   ],
   "source": [
    "# Creating a new DataFrame \n",
    "loan_funded = loan[['loan_status','funded_amnt']]\n",
    "\n",
    "#Boxplot to check impact of funded amount on loan status\n",
    "sns.boxplot(data=loan_funded, x=\"funded_amnt\", y=\"loan_status\")"
   ]
  },
  {
   "cell_type": "markdown",
   "id": "d172147a",
   "metadata": {},
   "source": [
    "Conclusion: The 25th percentile, mean and 75th percentile of funded amount is similar for both \"Fully Paid\" and \"Charged Off\" loan. This indicates that the funded amount doesnot affect loan status"
   ]
  },
  {
   "cell_type": "markdown",
   "id": "bc6241db",
   "metadata": {},
   "source": [
    "2. term: Tenure of the loan either 36 months or 60 months"
   ]
  },
  {
   "cell_type": "code",
   "execution_count": 48,
   "id": "d37c181a",
   "metadata": {},
   "outputs": [
    {
     "data": {
      "text/html": [
       "<div>\n",
       "<style scoped>\n",
       "    .dataframe tbody tr th:only-of-type {\n",
       "        vertical-align: middle;\n",
       "    }\n",
       "\n",
       "    .dataframe tbody tr th {\n",
       "        vertical-align: top;\n",
       "    }\n",
       "\n",
       "    .dataframe thead th {\n",
       "        text-align: right;\n",
       "    }\n",
       "</style>\n",
       "<table border=\"1\" class=\"dataframe\">\n",
       "  <thead>\n",
       "    <tr style=\"text-align: right;\">\n",
       "      <th>loan_status</th>\n",
       "      <th>Charged Off</th>\n",
       "      <th>Current</th>\n",
       "      <th>Fully Paid</th>\n",
       "      <th>% Charged Off</th>\n",
       "    </tr>\n",
       "    <tr>\n",
       "      <th>term</th>\n",
       "      <th></th>\n",
       "      <th></th>\n",
       "      <th></th>\n",
       "      <th></th>\n",
       "    </tr>\n",
       "  </thead>\n",
       "  <tbody>\n",
       "    <tr>\n",
       "      <th>36 months</th>\n",
       "      <td>3157</td>\n",
       "      <td>0</td>\n",
       "      <td>25777</td>\n",
       "      <td>10.91</td>\n",
       "    </tr>\n",
       "    <tr>\n",
       "      <th>60 months</th>\n",
       "      <td>2378</td>\n",
       "      <td>1140</td>\n",
       "      <td>7079</td>\n",
       "      <td>22.44</td>\n",
       "    </tr>\n",
       "  </tbody>\n",
       "</table>\n",
       "</div>"
      ],
      "text/plain": [
       "loan_status  Charged Off  Current  Fully Paid  % Charged Off\n",
       "term                                                        \n",
       " 36 months          3157        0       25777          10.91\n",
       " 60 months          2378     1140        7079          22.44"
      ]
     },
     "execution_count": 48,
     "metadata": {},
     "output_type": "execute_result"
    }
   ],
   "source": [
    "# Creating a new DataFrame \n",
    "loan_term = loan[['loan_status','term']]\n",
    "\n",
    "#Calculating the frequency table of both variables to summarise the distribution of data\n",
    "term_cross_tab = pd.crosstab(loan_term.term, loan_term.loan_status)\n",
    "\n",
    "#Calculating % people charged off for each row \n",
    "term_cross_tab['% Charged Off'] = term_cross_tab.apply(lambda x: round(x[0]/(x[0]+x[1]+x[2])*100,2), axis=1)\n",
    "term_cross_tab"
   ]
  },
  {
   "cell_type": "code",
   "execution_count": 52,
   "id": "e1e339e7",
   "metadata": {},
   "outputs": [
    {
     "data": {
      "image/png": "[encoded data removed]",
      "text/plain": [
       "<Figure size 400x300 with 1 Axes>"
      ]
     },
     "metadata": {},
     "output_type": "display_data"
    }
   ],
   "source": [
    "plt.figure(figsize=(4,3))\n",
    "plt.bar(term_cross_tab.index, term_cross_tab['% Charged Off'], color='red')\n",
    "plt.xlabel('Term')\n",
    "plt.ylabel('% Charged Off')\n",
    "plt.title('Term vs % Charged Off')\n",
    "plt.show()"
   ]
  },
  {
   "cell_type": "markdown",
   "id": "121ee3b0",
   "metadata": {},
   "source": [
    "Conclusion: Loans with high duration has higher chance of default"
   ]
  },
  {
   "cell_type": "markdown",
   "id": "008c960b",
   "metadata": {},
   "source": [
    "3. int_rate: Interest rate on the loan"
   ]
  },
  {
   "cell_type": "code",
   "execution_count": 54,
   "id": "93fe6750",
   "metadata": {},
   "outputs": [
    {
     "data": {
      "text/plain": [
       "loan_status    object\n",
       "int_rate       object\n",
       "dtype: object"
      ]
     },
     "execution_count": 54,
     "metadata": {},
     "output_type": "execute_result"
    }
   ],
   "source": [
    "# Creating a new DataFrame \n",
    "loan_interest = loan[['loan_status','int_rate']]\n",
    "\n",
    "#Checking data types of both column\n",
    "loan_interest.dtypes"
   ]
  },
  {
   "cell_type": "code",
   "execution_count": 55,
   "id": "de615ae4",
   "metadata": {},
   "outputs": [
    {
     "name": "stderr",
     "output_type": "stream",
     "text": [
      "C:\\Users\\ankit\\AppData\\Local\\Temp\\ipykernel_58748\\549767314.py:2: SettingWithCopyWarning: \n",
      "A value is trying to be set on a copy of a slice from a DataFrame.\n",
      "Try using .loc[row_indexer,col_indexer] = value instead\n",
      "\n",
      "See the caveats in the documentation: https://pandas.pydata.org/pandas-docs/stable/user_guide/indexing.html#returning-a-view-versus-a-copy\n",
      "  loan_interest['rate'] = loan_interest.int_rate.apply(lambda x: x[:-1]).astype(float)\n",
      "C:\\Users\\ankit\\AppData\\Local\\Temp\\ipykernel_58748\\549767314.py:5: SettingWithCopyWarning: \n",
      "A value is trying to be set on a copy of a slice from a DataFrame\n",
      "\n",
      "See the caveats in the documentation: https://pandas.pydata.org/pandas-docs/stable/user_guide/indexing.html#returning-a-view-versus-a-copy\n",
      "  loan_interest.drop('int_rate', axis=1, inplace=True)\n"
     ]
    }
   ],
   "source": [
    "#Removing % sign from each value in the column int_rate and converting the values into 'float' datatype\n",
    "loan_interest['rate'] = loan_interest.int_rate.apply(lambda x: x[:-1]).astype(float)\n",
    "\n",
    "#Dropping int_rate column\n",
    "loan_interest.drop('int_rate', axis=1, inplace=True)"
   ]
  },
  {
   "cell_type": "code",
   "execution_count": 56,
   "id": "e62ef55a",
   "metadata": {},
   "outputs": [
    {
     "data": {
      "text/plain": [
       "<Axes: xlabel='rate', ylabel='loan_status'>"
      ]
     },
     "execution_count": 56,
     "metadata": {},
     "output_type": "execute_result"
    },
    {
     "data": {
      "image/png": "[encoded data removed]",
      "text/plain": [
       "<Figure size 640x480 with 1 Axes>"
      ]
     },
     "metadata": {},
     "output_type": "display_data"
    }
   ],
   "source": [
    "#Boxplot to check impact of interest rate on loan status\n",
    "sns.boxplot(data=loan_interest, x=\"rate\", y=\"loan_status\")"
   ]
  },
  {
   "cell_type": "markdown",
   "id": "898b7691",
   "metadata": {},
   "source": [
    "Conclusion: Default loans have higher mean interest rate as compared to loans fully paid"
   ]
  },
  {
   "cell_type": "markdown",
   "id": "ec7cf8b3",
   "metadata": {},
   "source": [
    "4. grade: Grade of loan assigned by LC"
   ]
  },
  {
   "cell_type": "code",
   "execution_count": 60,
   "id": "abb7fc68",
   "metadata": {},
   "outputs": [
    {
     "data": {
      "text/html": [
       "<div>\n",
       "<style scoped>\n",
       "    .dataframe tbody tr th:only-of-type {\n",
       "        vertical-align: middle;\n",
       "    }\n",
       "\n",
       "    .dataframe tbody tr th {\n",
       "        vertical-align: top;\n",
       "    }\n",
       "\n",
       "    .dataframe thead th {\n",
       "        text-align: right;\n",
       "    }\n",
       "</style>\n",
       "<table border=\"1\" class=\"dataframe\">\n",
       "  <thead>\n",
       "    <tr style=\"text-align: right;\">\n",
       "      <th>loan_status</th>\n",
       "      <th>Charged Off</th>\n",
       "      <th>Current</th>\n",
       "      <th>Fully Paid</th>\n",
       "      <th>% charged off</th>\n",
       "    </tr>\n",
       "    <tr>\n",
       "      <th>grade</th>\n",
       "      <th></th>\n",
       "      <th></th>\n",
       "      <th></th>\n",
       "      <th></th>\n",
       "    </tr>\n",
       "  </thead>\n",
       "  <tbody>\n",
       "    <tr>\n",
       "      <th>A</th>\n",
       "      <td>596</td>\n",
       "      <td>40</td>\n",
       "      <td>9420</td>\n",
       "      <td>5.93</td>\n",
       "    </tr>\n",
       "    <tr>\n",
       "      <th>B</th>\n",
       "      <td>1408</td>\n",
       "      <td>345</td>\n",
       "      <td>10233</td>\n",
       "      <td>11.75</td>\n",
       "    </tr>\n",
       "    <tr>\n",
       "      <th>C</th>\n",
       "      <td>1316</td>\n",
       "      <td>264</td>\n",
       "      <td>6466</td>\n",
       "      <td>16.36</td>\n",
       "    </tr>\n",
       "    <tr>\n",
       "      <th>D</th>\n",
       "      <td>1101</td>\n",
       "      <td>222</td>\n",
       "      <td>3948</td>\n",
       "      <td>20.89</td>\n",
       "    </tr>\n",
       "    <tr>\n",
       "      <th>E</th>\n",
       "      <td>702</td>\n",
       "      <td>179</td>\n",
       "      <td>1939</td>\n",
       "      <td>24.89</td>\n",
       "    </tr>\n",
       "    <tr>\n",
       "      <th>F</th>\n",
       "      <td>315</td>\n",
       "      <td>73</td>\n",
       "      <td>652</td>\n",
       "      <td>30.29</td>\n",
       "    </tr>\n",
       "    <tr>\n",
       "      <th>G</th>\n",
       "      <td>97</td>\n",
       "      <td>17</td>\n",
       "      <td>198</td>\n",
       "      <td>31.09</td>\n",
       "    </tr>\n",
       "  </tbody>\n",
       "</table>\n",
       "</div>"
      ],
      "text/plain": [
       "loan_status  Charged Off  Current  Fully Paid  % charged off\n",
       "grade                                                       \n",
       "A                    596       40        9420           5.93\n",
       "B                   1408      345       10233          11.75\n",
       "C                   1316      264        6466          16.36\n",
       "D                   1101      222        3948          20.89\n",
       "E                    702      179        1939          24.89\n",
       "F                    315       73         652          30.29\n",
       "G                     97       17         198          31.09"
      ]
     },
     "execution_count": 60,
     "metadata": {},
     "output_type": "execute_result"
    }
   ],
   "source": [
    "# Creating a new DataFrame \n",
    "loan_grade = loan[['loan_status','grade']]\n",
    "\n",
    "#Calculating the frequency table of both variables to summarise the distribution of data\n",
    "grade_cross_tab = pd.crosstab(loan_grade['grade'], loan_grade['loan_status'])\n",
    "\n",
    "#Calculating % people charged off for each loan grade\n",
    "grade_cross_tab['% charged off'] = grade_cross_tab.apply(lambda x: round(x[0]/(x[0]+x[1]+x[2])*100,2), axis=1)\n",
    "grade_cross_tab"
   ]
  },
  {
   "cell_type": "code",
   "execution_count": 62,
   "id": "cb9d0cb4",
   "metadata": {},
   "outputs": [
    {
     "data": {
      "image/png": "[encoded data removed]",
      "text/plain": [
       "<Figure size 1000x600 with 1 Axes>"
      ]
     },
     "metadata": {},
     "output_type": "display_data"
    }
   ],
   "source": [
    "#Bar chart to show impact of grade on % loan charged off\n",
    "plt.figure(figsize=(10,6))\n",
    "plt.bar(grade_cross_tab.index, grade_cross_tab['% charged off'], color='red')\n",
    "plt.xlabel('Grade')\n",
    "plt.ylabel('% Charged Off')\n",
    "plt.title('Grade vs % Charged Off')\n",
    "plt.show()"
   ]
  },
  {
   "cell_type": "markdown",
   "id": "b8dabe41",
   "metadata": {},
   "source": [
    "Conclusion: Lower grade loans have higher chances of default as compared to better grade loans"
   ]
  },
  {
   "cell_type": "markdown",
   "id": "f4aca5a0",
   "metadata": {},
   "source": [
    "5. emp_title: Job title of the borrower mentioned at the time of loan application"
   ]
  },
  {
   "cell_type": "code",
   "execution_count": 68,
   "id": "d1e03602",
   "metadata": {},
   "outputs": [
    {
     "name": "stderr",
     "output_type": "stream",
     "text": [
      "C:\\Users\\ankit\\AppData\\Local\\Temp\\ipykernel_58748\\865301912.py:3: SettingWithCopyWarning: \n",
      "A value is trying to be set on a copy of a slice from a DataFrame.\n",
      "Try using .loc[row_indexer,col_indexer] = value instead\n",
      "\n",
      "See the caveats in the documentation: https://pandas.pydata.org/pandas-docs/stable/user_guide/indexing.html#returning-a-view-versus-a-copy\n",
      "  loan_emptitle['emp_title_available'] = loan_emptitle.emp_title_available.apply(lambda x: \"Available\" if x==1 else \"Not Available\")\n"
     ]
    },
    {
     "data": {
      "text/html": [
       "<div>\n",
       "<style scoped>\n",
       "    .dataframe tbody tr th:only-of-type {\n",
       "        vertical-align: middle;\n",
       "    }\n",
       "\n",
       "    .dataframe tbody tr th {\n",
       "        vertical-align: top;\n",
       "    }\n",
       "\n",
       "    .dataframe thead th {\n",
       "        text-align: right;\n",
       "    }\n",
       "</style>\n",
       "<table border=\"1\" class=\"dataframe\">\n",
       "  <thead>\n",
       "    <tr style=\"text-align: right;\">\n",
       "      <th>loan_status</th>\n",
       "      <th>Charged Off</th>\n",
       "      <th>Current</th>\n",
       "      <th>Fully Paid</th>\n",
       "      <th>% charged off</th>\n",
       "    </tr>\n",
       "    <tr>\n",
       "      <th>emp_title_available</th>\n",
       "      <th></th>\n",
       "      <th></th>\n",
       "      <th></th>\n",
       "      <th></th>\n",
       "    </tr>\n",
       "  </thead>\n",
       "  <tbody>\n",
       "    <tr>\n",
       "      <th>Available</th>\n",
       "      <td>5061</td>\n",
       "      <td>1067</td>\n",
       "      <td>30968</td>\n",
       "      <td>13.642980</td>\n",
       "    </tr>\n",
       "    <tr>\n",
       "      <th>Not Available</th>\n",
       "      <td>474</td>\n",
       "      <td>73</td>\n",
       "      <td>1888</td>\n",
       "      <td>19.466119</td>\n",
       "    </tr>\n",
       "  </tbody>\n",
       "</table>\n",
       "</div>"
      ],
      "text/plain": [
       "loan_status          Charged Off  Current  Fully Paid  % charged off\n",
       "emp_title_available                                                 \n",
       "Available                   5061     1067       30968      13.642980\n",
       "Not Available                474       73        1888      19.466119"
      ]
     },
     "execution_count": 68,
     "metadata": {},
     "output_type": "execute_result"
    }
   ],
   "source": [
    "# Creating a new DataFrame \n",
    "loan_emptitle = loan[['loan_status','emp_title_available']]\n",
    "loan_emptitle['emp_title_available'] = loan_emptitle.emp_title_available.apply(lambda x: \"Available\" if x==1 else \"Not Available\")\n",
    "#Calculating the frequency table of both variables to summarise the distribution of data\n",
    "emptitle_cross_tab = pd.crosstab( loan_emptitle.emp_title_available, loan_emptitle.loan_status)\n",
    "\n",
    "#Calculating % people charged off for each row\n",
    "emptitle_cross_tab['% charged off'] = emptitle_cross_tab.apply(lambda x: x[0]/(x[0]+x[1]+x[2])*100, axis=1)\n",
    "emptitle_cross_tab"
   ]
  },
  {
   "cell_type": "code",
   "execution_count": 70,
   "id": "92c33f52",
   "metadata": {},
   "outputs": [
    {
     "data": {
      "image/png": "[encoded data removed]",
      "text/plain": [
       "<Figure size 400x300 with 1 Axes>"
      ]
     },
     "metadata": {},
     "output_type": "display_data"
    }
   ],
   "source": [
    "#Bar chart to show impact of availability of employee title on % loan charged off\n",
    "plt.figure(figsize=(4,3))\n",
    "plt.bar(emptitle_cross_tab.index, emptitle_cross_tab['% charged off'], color='red')\n",
    "plt.xlabel('Title')\n",
    "plt.ylabel('% Charged Off')\n",
    "plt.title('Title vs % Charged Off')\n",
    "plt.show()"
   ]
  },
  {
   "cell_type": "markdown",
   "id": "67764669",
   "metadata": {},
   "source": [
    "Conclusion: Loan has higher chances of default when employee title is not furnished during loan application"
   ]
  },
  {
   "cell_type": "markdown",
   "id": "8fe644b5",
   "metadata": {},
   "source": [
    "6. emp_length: Employment length in years which vary between 0 and 10"
   ]
  },
  {
   "cell_type": "code",
   "execution_count": 72,
   "id": "9b06b7ad",
   "metadata": {},
   "outputs": [
    {
     "data": {
      "text/html": [
       "<div>\n",
       "<style scoped>\n",
       "    .dataframe tbody tr th:only-of-type {\n",
       "        vertical-align: middle;\n",
       "    }\n",
       "\n",
       "    .dataframe tbody tr th {\n",
       "        vertical-align: top;\n",
       "    }\n",
       "\n",
       "    .dataframe thead th {\n",
       "        text-align: right;\n",
       "    }\n",
       "</style>\n",
       "<table border=\"1\" class=\"dataframe\">\n",
       "  <thead>\n",
       "    <tr style=\"text-align: right;\">\n",
       "      <th>loan_status</th>\n",
       "      <th>Charged Off</th>\n",
       "      <th>Current</th>\n",
       "      <th>Fully Paid</th>\n",
       "    </tr>\n",
       "    <tr>\n",
       "      <th>emp_length</th>\n",
       "      <th></th>\n",
       "      <th></th>\n",
       "      <th></th>\n",
       "    </tr>\n",
       "  </thead>\n",
       "  <tbody>\n",
       "    <tr>\n",
       "      <th>1 year</th>\n",
       "      <td>443</td>\n",
       "      <td>71</td>\n",
       "      <td>2700</td>\n",
       "    </tr>\n",
       "    <tr>\n",
       "      <th>10+ years</th>\n",
       "      <td>1321</td>\n",
       "      <td>391</td>\n",
       "      <td>7153</td>\n",
       "    </tr>\n",
       "    <tr>\n",
       "      <th>2 years</th>\n",
       "      <td>558</td>\n",
       "      <td>97</td>\n",
       "      <td>3715</td>\n",
       "    </tr>\n",
       "    <tr>\n",
       "      <th>3 years</th>\n",
       "      <td>548</td>\n",
       "      <td>83</td>\n",
       "      <td>3449</td>\n",
       "    </tr>\n",
       "    <tr>\n",
       "      <th>4 years</th>\n",
       "      <td>453</td>\n",
       "      <td>94</td>\n",
       "      <td>2869</td>\n",
       "    </tr>\n",
       "    <tr>\n",
       "      <th>5 years</th>\n",
       "      <td>447</td>\n",
       "      <td>88</td>\n",
       "      <td>2729</td>\n",
       "    </tr>\n",
       "    <tr>\n",
       "      <th>6 years</th>\n",
       "      <td>303</td>\n",
       "      <td>61</td>\n",
       "      <td>1858</td>\n",
       "    </tr>\n",
       "    <tr>\n",
       "      <th>7 years</th>\n",
       "      <td>262</td>\n",
       "      <td>62</td>\n",
       "      <td>1442</td>\n",
       "    </tr>\n",
       "    <tr>\n",
       "      <th>8 years</th>\n",
       "      <td>199</td>\n",
       "      <td>44</td>\n",
       "      <td>1229</td>\n",
       "    </tr>\n",
       "    <tr>\n",
       "      <th>9 years</th>\n",
       "      <td>154</td>\n",
       "      <td>32</td>\n",
       "      <td>1066</td>\n",
       "    </tr>\n",
       "    <tr>\n",
       "      <th>&lt; 1 year</th>\n",
       "      <td>626</td>\n",
       "      <td>75</td>\n",
       "      <td>3843</td>\n",
       "    </tr>\n",
       "    <tr>\n",
       "      <th>Not Available</th>\n",
       "      <td>221</td>\n",
       "      <td>42</td>\n",
       "      <td>803</td>\n",
       "    </tr>\n",
       "  </tbody>\n",
       "</table>\n",
       "</div>"
      ],
      "text/plain": [
       "loan_status    Charged Off  Current  Fully Paid\n",
       "emp_length                                     \n",
       "1 year                 443       71        2700\n",
       "10+ years             1321      391        7153\n",
       "2 years                558       97        3715\n",
       "3 years                548       83        3449\n",
       "4 years                453       94        2869\n",
       "5 years                447       88        2729\n",
       "6 years                303       61        1858\n",
       "7 years                262       62        1442\n",
       "8 years                199       44        1229\n",
       "9 years                154       32        1066\n",
       "< 1 year               626       75        3843\n",
       "Not Available          221       42         803"
      ]
     },
     "execution_count": 72,
     "metadata": {},
     "output_type": "execute_result"
    }
   ],
   "source": [
    "# Creating a new DataFrame \n",
    "loan_emplength = loan[['loan_status','emp_length']]\n",
    "\n",
    "#Calculating the frequency table of both variables to summarise the distribution of data\n",
    "emplength_cross_tab = pd.crosstab(loan_emplength.emp_length, loan_emplength.loan_status)\n",
    "emplength_cross_tab"
   ]
  },
  {
   "cell_type": "code",
   "execution_count": 77,
   "id": "fbf611c5",
   "metadata": {},
   "outputs": [],
   "source": [
    "##Calculating % people charged off for each row\n",
    "emplength_cross_tab['% charged off'] = emplength_cross_tab.apply(lambda x: round(x[0]/(x[0]+x[1]+x[2])*100,2), axis=1)\n",
    "\n",
    "#Re-indexing cross table to shuffle data in logical order\n",
    "emplength_cross_tab = emplength_cross_tab.reindex(['Not Available','1 year','2 years','3 years','4 years','5 years','6 years','7 years','8 years','9 years','10+ years'])"
   ]
  },
  {
   "cell_type": "code",
   "execution_count": 78,
   "id": "ee71b601",
   "metadata": {},
   "outputs": [
    {
     "data": {
      "image/png": "[encoded data removed]",
      "text/plain": [
       "<Figure size 1200x600 with 1 Axes>"
      ]
     },
     "metadata": {},
     "output_type": "display_data"
    }
   ],
   "source": [
    "plt.figure(figsize=(12,6))\n",
    "plt.bar(emplength_cross_tab.index, emplength_cross_tab['% charged off'], color='red')\n",
    "plt.xlabel('Employment Length')\n",
    "plt.ylabel('% Charged Off')\n",
    "plt.title('Employment Length vs % Charged Off')\n",
    "plt.show()"
   ]
  },
  {
   "cell_type": "markdown",
   "id": "f6579fb1",
   "metadata": {},
   "source": [
    "Conclusion: Loan application without employment length has higher chances of default. Further, employment length doesnot impact loan default"
   ]
  },
  {
   "cell_type": "markdown",
   "id": "f4eb8041",
   "metadata": {},
   "source": [
    "7. installment: Monthly payment to be paid\n",
    "\n",
    "   annual_inc: Annual income of the borrower"
   ]
  },
  {
   "cell_type": "code",
   "execution_count": 81,
   "id": "21d2012c",
   "metadata": {},
   "outputs": [
    {
     "name": "stderr",
     "output_type": "stream",
     "text": [
      "C:\\Users\\ankit\\AppData\\Local\\Temp\\ipykernel_58748\\2867195363.py:5: SettingWithCopyWarning: \n",
      "A value is trying to be set on a copy of a slice from a DataFrame.\n",
      "Try using .loc[row_indexer,col_indexer] = value instead\n",
      "\n",
      "See the caveats in the documentation: https://pandas.pydata.org/pandas-docs/stable/user_guide/indexing.html#returning-a-view-versus-a-copy\n",
      "  loan_income['install%'] = loan_income.apply(lambda x: x[1]/x[2]*100, axis=1)\n"
     ]
    }
   ],
   "source": [
    "# Creating a new DataFrame \n",
    "loan_income = loan[['loan_status','installment','annual_inc']]\n",
    "\n",
    "#Calculating the percentage of annual income to be paid as installment by the borrower\n",
    "loan_income['install%'] = loan_income.apply(lambda x: x[1]/x[2]*100, axis=1)"
   ]
  },
  {
   "cell_type": "code",
   "execution_count": 82,
   "id": "38585f16",
   "metadata": {},
   "outputs": [
    {
     "data": {
      "text/plain": [
       "<Axes: xlabel='install%', ylabel='loan_status'>"
      ]
     },
     "execution_count": 82,
     "metadata": {},
     "output_type": "execute_result"
    },
    {
     "data": {
      "image/png": "[encoded data removed]",
      "text/plain": [
       "<Figure size 640x480 with 1 Axes>"
      ]
     },
     "metadata": {},
     "output_type": "display_data"
    }
   ],
   "source": [
    "sns.boxplot(data=loan_income, x=\"install%\", y=\"loan_status\")"
   ]
  },
  {
   "cell_type": "markdown",
   "id": "aa4b85de",
   "metadata": {},
   "source": [
    "Conclusion: Borrowers who defaulted had a higher mean % of total income to be paid as installment"
   ]
  },
  {
   "cell_type": "markdown",
   "id": "96c186ed",
   "metadata": {},
   "source": [
    "8. verification_status: Indicates if income of borrower was verified"
   ]
  },
  {
   "cell_type": "code",
   "execution_count": 84,
   "id": "59fec2ba",
   "metadata": {},
   "outputs": [],
   "source": [
    "# Creating a new DataFrame\n",
    "loan_verification = loan[['loan_status','verification_status']]\n",
    "\n",
    "#Calculating the frequency table of both variables to summarise the distribution of data\n",
    "verification_cross_tab = pd.crosstab(loan_verification.verification_status, loan_verification.loan_status)\n",
    "\n",
    "#Calculating % people charged off for each row\n",
    "verification_cross_tab['% charged off'] = verification_cross_tab.apply(lambda x: round(x[0]/(x[0]+x[1]+x[2]),2), axis=1)"
   ]
  },
  {
   "cell_type": "code",
   "execution_count": 86,
   "id": "f7037fcd",
   "metadata": {},
   "outputs": [
    {
     "data": {
      "image/png": "[encoded data removed]",
      "text/plain": [
       "<Figure size 700x600 with 1 Axes>"
      ]
     },
     "metadata": {},
     "output_type": "display_data"
    }
   ],
   "source": [
    "plt.figure(figsize=(7,6))\n",
    "plt.bar(verification_cross_tab.index, verification_cross_tab['% charged off'], color='red')\n",
    "plt.xlabel('Verification Status')\n",
    "plt.ylabel('% Charged Off')\n",
    "plt.title('Verification Status vs % Charged Off')\n",
    "plt.show()"
   ]
  },
  {
   "cell_type": "markdown",
   "id": "ddf49832",
   "metadata": {},
   "source": [
    "Conclusion: Counterintutively, individuals with verified income has higher chances of default"
   ]
  },
  {
   "cell_type": "markdown",
   "id": "f58fbe60",
   "metadata": {},
   "source": [
    "9. purpose: Purpose of requesting for loan"
   ]
  },
  {
   "cell_type": "code",
   "execution_count": 87,
   "id": "920b1f1b",
   "metadata": {},
   "outputs": [],
   "source": [
    "# Creating a new DataFrame\n",
    "loan_purpose = loan[['loan_status','purpose']]\n",
    "\n",
    "#Calculating the frequency table of both variables to summarise the distribution of data\n",
    "purpose_cross_tab = pd.crosstab(loan_purpose.purpose, loan_verification.loan_status)\n",
    "purpose_cross_tab['% charged off'] = purpose_cross_tab.apply(lambda x: round(x[0]/(x[0]+x[1]+x[2]),2), axis=1)"
   ]
  },
  {
   "cell_type": "code",
   "execution_count": 88,
   "id": "45668510",
   "metadata": {},
   "outputs": [
    {
     "data": {
      "image/png": "[encoded data removed]",
      "text/plain": [
       "<Figure size 2000x600 with 1 Axes>"
      ]
     },
     "metadata": {},
     "output_type": "display_data"
    }
   ],
   "source": [
    "plt.figure(figsize=(20,6))\n",
    "plt.bar(purpose_cross_tab.index, purpose_cross_tab['% charged off'], color='red')\n",
    "plt.xlabel('Purpose of Loan')\n",
    "plt.ylabel('% Charged Off')\n",
    "plt.title('Purpose of loan vs % Charged Off')\n",
    "plt.show()"
   ]
  },
  {
   "cell_type": "markdown",
   "id": "bdda7f05",
   "metadata": {},
   "source": [
    "Conclusion: Individuals borrowing for small business tends to default more"
   ]
  },
  {
   "cell_type": "markdown",
   "id": "b10311f1",
   "metadata": {},
   "source": [
    "10. dti: Ratio of borrower's total monthly debt payment, divided by monthly income"
   ]
  },
  {
   "cell_type": "code",
   "execution_count": 90,
   "id": "85c91d5a",
   "metadata": {},
   "outputs": [],
   "source": [
    "from scipy import stats\n",
    "loan_dti = loan[['loan_status','dti']]\n",
    "dti_cross_tab = pd.crosstab(loan_dti.dti, loan_dti.loan_status)\n",
    "loan_dti = loan_dti[abs(stats.zscore(loan_dti.dti)) <= 3]\n",
    "dti_group = dti_cross_tab.groupby(pd.cut(dti_cross_tab.index,[0,5,10,15,20, 25,30])).sum()\n",
    "dti_group['% charged off'] = dti_group.apply(lambda x: round(x[0]/(x[0]+x[1]+x[2]),2), axis=1)"
   ]
  },
  {
   "cell_type": "code",
   "execution_count": 91,
   "id": "32067c66",
   "metadata": {},
   "outputs": [
    {
     "data": {
      "image/png": "[encoded data removed]",
      "text/plain": [
       "<Figure size 1200x600 with 1 Axes>"
      ]
     },
     "metadata": {},
     "output_type": "display_data"
    }
   ],
   "source": [
    "plt.figure(figsize=(12, 6))\n",
    "plt.bar(dti_group.index.astype(str), dti_group['% charged off'], color='orange')\n",
    "plt.xlabel('dti range')\n",
    "plt.ylabel('% Charged Off')\n",
    "plt.title('dti vs % Charged Off')\n",
    "plt.show()"
   ]
  },
  {
   "cell_type": "markdown",
   "id": "deefad1d",
   "metadata": {},
   "source": [
    "Conclusion: Individuals with higher 'dti' has higher chance of default. However, the trend reverses for dti greater than 25"
   ]
  },
  {
   "cell_type": "markdown",
   "id": "761f1e1d",
   "metadata": {},
   "source": [
    "11. inq_last_6mths: No. of enquiries in the last 6 months"
   ]
  },
  {
   "cell_type": "code",
   "execution_count": 92,
   "id": "87ad2fda",
   "metadata": {},
   "outputs": [
    {
     "data": {
      "text/html": [
       "<div>\n",
       "<style scoped>\n",
       "    .dataframe tbody tr th:only-of-type {\n",
       "        vertical-align: middle;\n",
       "    }\n",
       "\n",
       "    .dataframe tbody tr th {\n",
       "        vertical-align: top;\n",
       "    }\n",
       "\n",
       "    .dataframe thead th {\n",
       "        text-align: right;\n",
       "    }\n",
       "</style>\n",
       "<table border=\"1\" class=\"dataframe\">\n",
       "  <thead>\n",
       "    <tr style=\"text-align: right;\">\n",
       "      <th>loan_status</th>\n",
       "      <th>Charged Off</th>\n",
       "      <th>Current</th>\n",
       "      <th>Fully Paid</th>\n",
       "      <th>% charged off</th>\n",
       "    </tr>\n",
       "    <tr>\n",
       "      <th>inq_last_6mths</th>\n",
       "      <th></th>\n",
       "      <th></th>\n",
       "      <th></th>\n",
       "      <th></th>\n",
       "    </tr>\n",
       "  </thead>\n",
       "  <tbody>\n",
       "    <tr>\n",
       "      <th>0</th>\n",
       "      <td>2245</td>\n",
       "      <td>591</td>\n",
       "      <td>16382</td>\n",
       "      <td>11.68</td>\n",
       "    </tr>\n",
       "    <tr>\n",
       "      <th>1</th>\n",
       "      <td>1655</td>\n",
       "      <td>311</td>\n",
       "      <td>8953</td>\n",
       "      <td>15.16</td>\n",
       "    </tr>\n",
       "    <tr>\n",
       "      <th>2</th>\n",
       "      <td>928</td>\n",
       "      <td>158</td>\n",
       "      <td>4699</td>\n",
       "      <td>16.04</td>\n",
       "    </tr>\n",
       "    <tr>\n",
       "      <th>3</th>\n",
       "      <td>602</td>\n",
       "      <td>65</td>\n",
       "      <td>2360</td>\n",
       "      <td>19.89</td>\n",
       "    </tr>\n",
       "    <tr>\n",
       "      <th>4</th>\n",
       "      <td>48</td>\n",
       "      <td>10</td>\n",
       "      <td>264</td>\n",
       "      <td>14.91</td>\n",
       "    </tr>\n",
       "    <tr>\n",
       "      <th>5</th>\n",
       "      <td>28</td>\n",
       "      <td>2</td>\n",
       "      <td>116</td>\n",
       "      <td>19.18</td>\n",
       "    </tr>\n",
       "    <tr>\n",
       "      <th>6</th>\n",
       "      <td>16</td>\n",
       "      <td>1</td>\n",
       "      <td>47</td>\n",
       "      <td>25.00</td>\n",
       "    </tr>\n",
       "    <tr>\n",
       "      <th>7</th>\n",
       "      <td>10</td>\n",
       "      <td>1</td>\n",
       "      <td>24</td>\n",
       "      <td>28.57</td>\n",
       "    </tr>\n",
       "    <tr>\n",
       "      <th>8</th>\n",
       "      <td>3</td>\n",
       "      <td>1</td>\n",
       "      <td>11</td>\n",
       "      <td>20.00</td>\n",
       "    </tr>\n",
       "  </tbody>\n",
       "</table>\n",
       "</div>"
      ],
      "text/plain": [
       "loan_status     Charged Off  Current  Fully Paid  % charged off\n",
       "inq_last_6mths                                                 \n",
       "0                      2245      591       16382          11.68\n",
       "1                      1655      311        8953          15.16\n",
       "2                       928      158        4699          16.04\n",
       "3                       602       65        2360          19.89\n",
       "4                        48       10         264          14.91\n",
       "5                        28        2         116          19.18\n",
       "6                        16        1          47          25.00\n",
       "7                        10        1          24          28.57\n",
       "8                         3        1          11          20.00"
      ]
     },
     "execution_count": 92,
     "metadata": {},
     "output_type": "execute_result"
    }
   ],
   "source": [
    "# Creating a new DataFrame\n",
    "loan_inq = loan[['loan_status','inq_last_6mths']]\n",
    "\n",
    "#Calculating the frequency table of both variables to summarise the distribution of data\n",
    "inq_cross_tab = pd.crosstab(loan_inq.inq_last_6mths, loan_inq.loan_status)\n",
    "inq_cross_tab['% charged off'] = inq_cross_tab.apply(lambda x: round(x[0]/(x[0]+x[1]+x[2])*100,2), axis=1)\n",
    "inq_cross_tab"
   ]
  },
  {
   "cell_type": "code",
   "execution_count": 93,
   "id": "688410b9",
   "metadata": {},
   "outputs": [
    {
     "data": {
      "image/png": "[encoded data removed]",
      "text/plain": [
       "<Figure size 1200x600 with 1 Axes>"
      ]
     },
     "metadata": {},
     "output_type": "display_data"
    }
   ],
   "source": [
    "plt.figure(figsize=(12,6))\n",
    "plt.bar(inq_cross_tab.index, inq_cross_tab['% charged off'], color='brown')\n",
    "plt.xlabel('Inquiries in last 6 months')\n",
    "plt.ylabel('% Charged Off')\n",
    "plt.title('No. of inquiries in last 6 months vs % Charged Off')\n",
    "plt.show()"
   ]
  },
  {
   "cell_type": "markdown",
   "id": "c566d80b",
   "metadata": {},
   "source": [
    "Conclusion: In general, the chances of default increases with increasing no. of credit enquiries in last six months"
   ]
  },
  {
   "cell_type": "markdown",
   "id": "66ede505",
   "metadata": {},
   "source": [
    "12. open_acc: No. of open credit line for the borrower"
   ]
  },
  {
   "cell_type": "code",
   "execution_count": 94,
   "id": "712f6275",
   "metadata": {},
   "outputs": [],
   "source": [
    "# Creating a new DataFrame\n",
    "loan_openacc = loan[['loan_status','open_acc']]\n",
    "\n",
    "#Calculating the frequency table of both variables to summarise the distribution of data\n",
    "openacc_cross_tab = pd.crosstab(loan_openacc.open_acc, loan_inq.loan_status)\n",
    "openacc_cross_tab['% charged off'] = openacc_cross_tab.apply(lambda x: round(x[0]/(x[0]+x[1]+x[2])*100,2), axis=1)"
   ]
  },
  {
   "cell_type": "code",
   "execution_count": 96,
   "id": "6909b7c5",
   "metadata": {},
   "outputs": [
    {
     "data": {
      "image/png": "[encoded data removed]",
      "text/plain": [
       "<Figure size 1200x600 with 1 Axes>"
      ]
     },
     "metadata": {},
     "output_type": "display_data"
    }
   ],
   "source": [
    "plt.figure(figsize=(12,6))\n",
    "plt.bar(openacc_cross_tab.index, openacc_cross_tab['% charged off'], color='brown')\n",
    "plt.xlabel('No. of open credit lines')\n",
    "plt.ylabel('% Charged Off')\n",
    "plt.title('No. of open credit lines vs % Charged Off')\n",
    "plt.show()"
   ]
  },
  {
   "cell_type": "markdown",
   "id": "481a1cf7",
   "metadata": {},
   "source": [
    "Conclusion: The chances of default reduces as no. of open credit lines increases from 1 to 24 and increases beyond 24 credit lines"
   ]
  },
  {
   "cell_type": "markdown",
   "id": "8fd959f0",
   "metadata": {},
   "source": [
    "13. revol_util: Utilization of revolving line of credit "
   ]
  },
  {
   "cell_type": "code",
   "execution_count": 98,
   "id": "09d085e4",
   "metadata": {},
   "outputs": [
    {
     "name": "stderr",
     "output_type": "stream",
     "text": [
      "C:\\Users\\ankit\\AppData\\Local\\Temp\\ipykernel_58748\\3650740458.py:2: SettingWithCopyWarning: \n",
      "A value is trying to be set on a copy of a slice from a DataFrame.\n",
      "Try using .loc[row_indexer,col_indexer] = value instead\n",
      "\n",
      "See the caveats in the documentation: https://pandas.pydata.org/pandas-docs/stable/user_guide/indexing.html#returning-a-view-versus-a-copy\n",
      "  loan_util['utilization'] = loan_util.revol_util.apply(lambda x: float(x[:-1]))\n",
      "C:\\Users\\ankit\\AppData\\Local\\Temp\\ipykernel_58748\\3650740458.py:3: SettingWithCopyWarning: \n",
      "A value is trying to be set on a copy of a slice from a DataFrame\n",
      "\n",
      "See the caveats in the documentation: https://pandas.pydata.org/pandas-docs/stable/user_guide/indexing.html#returning-a-view-versus-a-copy\n",
      "  loan_util.drop('revol_util', axis=1, inplace=True)\n"
     ]
    }
   ],
   "source": [
    "# Creating a new DataFrame\n",
    "loan_util = loan[['loan_status','revol_util']]\n",
    "\n",
    "\n",
    "loan_util['utilization'] = loan_util.revol_util.apply(lambda x: float(x[:-1]))\n",
    "loan_util.drop('revol_util', axis=1, inplace=True)"
   ]
  },
  {
   "cell_type": "code",
   "execution_count": 99,
   "id": "f714cec7",
   "metadata": {},
   "outputs": [
    {
     "data": {
      "text/plain": [
       "<Figure size 600x400 with 0 Axes>"
      ]
     },
     "metadata": {},
     "output_type": "display_data"
    },
    {
     "data": {
      "image/png": "[encoded data removed]",
      "text/plain": [
       "<Figure size 640x480 with 1 Axes>"
      ]
     },
     "metadata": {},
     "output_type": "display_data"
    }
   ],
   "source": [
    "loan_util_group = loan_util.groupby(by='loan_status').mean()\n",
    "plt.figure(figsize=(6, 4))\n",
    "loan_util_group.plot(kind='bar', color='green')\n",
    "plt.xlabel('Loan Status')\n",
    "plt.ylabel('Average Utilization')\n",
    "plt.title('Average Utilization by Loan Status')\n",
    "plt.xticks(rotation=0)  # Keep x-axis labels horizontal\n",
    "plt.show()"
   ]
  },
  {
   "cell_type": "markdown",
   "id": "9a933405",
   "metadata": {},
   "source": [
    "Conclusion: Borrowers with higher average utilization tends to default more"
   ]
  },
  {
   "cell_type": "code",
   "execution_count": null,
   "id": "40c4680c",
   "metadata": {},
   "outputs": [],
   "source": []
  }
 ],
 "metadata": {
  "kernelspec": {
   "display_name": "Python 3 (ipykernel)",
   "language": "python",
   "name": "python3"
  },
  "language_info": {
   "codemirror_mode": {
    "name": "ipython",
    "version": 3
   },
   "file_extension": ".py",
   "mimetype": "text/x-python",
   "name": "python",
   "nbconvert_exporter": "python",
   "pygments_lexer": "ipython3",
   "version": "3.10.9"
  }
 },
 "nbformat": 4,
 "nbformat_minor": 5
}
